{
  "nbformat": 4,
  "nbformat_minor": 0,
  "metadata": {
    "colab": {
      "provenance": [],
      "authorship_tag": "ABX9TyM7cyDIuvibROwZQsCvrbCy",
      "include_colab_link": true
    },
    "kernelspec": {
      "name": "python3",
      "display_name": "Python 3"
    },
    "language_info": {
      "name": "python"
    }
  },
  "cells": [
    {
      "cell_type": "markdown",
      "metadata": {
        "id": "view-in-github",
        "colab_type": "text"
      },
      "source": [
        "<a href=\"https://colab.research.google.com/github/Zaki171/Image-Classification-From-Scratch/blob/main/Image_Classification_From_Scratch.ipynb\" target=\"_parent\"><img src=\"https://colab.research.google.com/assets/colab-badge.svg\" alt=\"Open In Colab\"/></a>"
      ]
    },
    {
      "cell_type": "code",
      "execution_count": null,
      "metadata": {
        "id": "AKYIs1Ml0mxo"
      },
      "outputs": [],
      "source": [
        "import numpy as np\n",
        "import random\n",
        "\n",
        "import matplotlib.pyplot as plt\n",
        "\n",
        "from scipy import optimize\n",
        "from sklearn import datasets as skdataset\n",
        "from sklearn.model_selection import train_test_split\n",
        "\n",
        "%matplotlib inline"
      ]
    },
    {
      "cell_type": "code",
      "source": [
        "# Setting the seed\n",
        "RAND_ST = 42\n",
        "random.seed(RAND_ST)\n",
        "#begin_test\n",
        "\n",
        "#end_test"
      ],
      "metadata": {
        "id": "AaOSAdlJ0s1S"
      },
      "execution_count": null,
      "outputs": []
    },
    {
      "cell_type": "markdown",
      "source": [
        "# Loading the data"
      ],
      "metadata": {
        "id": "QE2hNA2eMJja"
      }
    },
    {
      "cell_type": "code",
      "source": [
        "def load_iris_dataset(num_classes=2):\n",
        "    # Load the datadet from SkDataset\n",
        "    iris = skdataset.load_iris()\n",
        "    X = iris.data\n",
        "    Y = iris.target\n",
        "    # Reduce the number of classes\n",
        "    idx = Y < num_classes\n",
        "    X = X[idx]\n",
        "    Y = Y[idx]\n",
        "    return X, Y"
      ],
      "metadata": {
        "id": "Ss4Nuq2Q0wRa"
      },
      "execution_count": null,
      "outputs": []
    },
    {
      "cell_type": "code",
      "source": [
        "def load_mnist_dataset(num_classes=2):\n",
        "    # Load the datadet from SkDataset\n",
        "    X, Y = skdataset.fetch_openml('mnist_784', version=1, return_X_y=True,as_frame=False)\n",
        "    Y = Y.astype(np.int64)\n",
        "    # Reduce the number of classes\n",
        "    idx = Y < num_classes\n",
        "    X = X[idx]\n",
        "    Y = Y[idx]\n",
        "    return X, Y\n",
        "\n",
        "def load_mnist_dataset_onevsall(class_id=7):\n",
        "    # Load the datadet from SkDataset\n",
        "    X, Y = skdataset.fetch_openml('mnist_784', version=1, return_X_y=True,as_frame=False)\n",
        "    Y = Y.astype(np.int64)\n",
        "    # One versus all\n",
        "    idx = Y == class_id\n",
        "    Y[~idx] = 0\n",
        "    Y[idx]  = 1\n",
        "    return X, Y"
      ],
      "metadata": {
        "id": "BCXqtrNv0yL-"
      },
      "execution_count": null,
      "outputs": []
    },
    {
      "cell_type": "markdown",
      "source": [
        "# Plot Functions"
      ],
      "metadata": {
        "id": "2XedzwxaMQpt"
      }
    },
    {
      "cell_type": "code",
      "source": [
        "def plot_dataset(X, Y, dims=[0,1]):\n",
        "    # Keep only two dimensions\n",
        "    X_reduced = X[:, dims]\n",
        "    # Plot the data points\n",
        "    plt.figure(figsize=(8, 6))\n",
        "    plt.clf()\n",
        "    plt.scatter(X_reduced[:, 0], X_reduced[:, 1], c=Y, cmap=plt.cm.Set1, edgecolor='k')\n",
        "    plt.xlabel('Feat 1')\n",
        "    plt.ylabel('Feat 2')\n",
        "    plt.show()"
      ],
      "metadata": {
        "id": "OXfiTvP40z3w"
      },
      "execution_count": null,
      "outputs": []
    },
    {
      "cell_type": "code",
      "source": [
        "def plot_correlation(X1, X2):\n",
        "    # Plot both variables\n",
        "    plt.figure(figsize=(8, 6))\n",
        "    plt.clf()\n",
        "    plt.scatter(X1, X2, edgecolor='k')\n",
        "    line = np.linspace(min(X1.min(), X2.min()), max(X1.max(), X2.max()), 20)\n",
        "    plt.plot(line, line, 'r')\n",
        "    plt.xlabel('Variable 1')\n",
        "    plt.ylabel('Variable 2')\n",
        "    plt.show()"
      ],
      "metadata": {
        "id": "c3Dky-iH01q8"
      },
      "execution_count": null,
      "outputs": []
    },
    {
      "cell_type": "code",
      "source": [
        "def plot_eigenvecs(stacked_images, n_rows, n_columns):\n",
        "    n_images, n_dims = stacked_images.shape\n",
        "    plt.figure()\n",
        "    for i in range(n_rows*n_columns):\n",
        "        plt.subplot(n_rows, n_columns, i+1)\n",
        "        plt.imshow(np.reshape(stacked_images[i], [int(np.sqrt(n_dims)), int(np.sqrt(n_dims))]))\n",
        "        plt.axis('off')\n",
        "    plt.show()\n",
        "\n",
        "def plot_grey_image(stacked_images, n_rows, n_columns, titles):\n",
        "    n_images, n_dims = stacked_images.shape\n",
        "    plt.figure()\n",
        "    for i in range(n_rows*n_columns):\n",
        "        plt.subplot(n_rows, n_columns, i+1)\n",
        "        plt.imshow(np.reshape(stacked_images[i], [int(np.sqrt(n_dims)), int(np.sqrt(n_dims))]), cmap='gray', vmin=0, vmax=1)\n",
        "        plt.axis('off')\n",
        "        if len(titles) == n_rows*n_columns:\n",
        "          plt.title(titles[i])\n",
        "    plt.show()"
      ],
      "metadata": {
        "id": "FlkBlkvV03Ey"
      },
      "execution_count": null,
      "outputs": []
    },
    {
      "cell_type": "code",
      "source": [
        "def plot_loss_curve(logs):\n",
        "    fig = plt.figure(figsize=(8, 6))\n",
        "    plt.plot(logs)\n",
        "    plt.show()"
      ],
      "metadata": {
        "id": "JtklYVWP04s7"
      },
      "execution_count": null,
      "outputs": []
    },
    {
      "cell_type": "code",
      "source": [
        "def true_positive(Y_test, y_pred):\n",
        "    mask = (Y_test == 1)\n",
        "    tp = (Y_test[mask] == y_pred[mask]).sum()\n",
        "    return tp.item()\n",
        "\n",
        "def true_negative(Y_test, y_pred):\n",
        "    mask = (Y_test == 0) | (Y_test == -1)\n",
        "    tn = (Y_test[mask] == y_pred[mask]).sum()\n",
        "    return tn.item()\n",
        "\n",
        "def false_negative(Y_test, y_pred):\n",
        "    mask = (y_pred == 0) | (y_pred == -1)\n",
        "    tn = (Y_test[mask] != y_pred[mask]).sum()\n",
        "    return tn.item()\n",
        "\n",
        "def false_positive(Y_test, y_pred):\n",
        "    mask = (y_pred == 1)\n",
        "    tn = (Y_test[mask] != y_pred[mask]).sum()\n",
        "    return tn.item()\n",
        "\n",
        "def plot_confusion_matrix(Y_test, y_pred):\n",
        "    tp = true_positive(Y_test, y_pred)\n",
        "    tn = true_negative(Y_test, y_pred)\n",
        "    fp = false_positive(Y_test, y_pred)\n",
        "    fn = false_negative(Y_test, y_pred)\n",
        "    cf = np.array([[tn, fp], [fn, tp]])\n",
        "    fig, ax = plt.subplots()\n",
        "    ax.matshow(cf, cmap=plt.cm.Blues)\n",
        "    for i in range(2):\n",
        "        for j in range(2):\n",
        "            c = cf[i,j]\n",
        "            ax.text(j, i, str(c), va='center', ha='center')\n",
        "    plt.xlabel('Prediction')\n",
        "    plt.ylabel('Target')\n",
        "    plt.show()"
      ],
      "metadata": {
        "id": "n0Z2C7uI06Hn"
      },
      "execution_count": null,
      "outputs": []
    },
    {
      "cell_type": "markdown",
      "source": [
        "IRIS dataset"
      ],
      "metadata": {
        "id": "AWonzU011AiF"
      }
    },
    {
      "cell_type": "code",
      "source": [
        "X, Y = load_iris_dataset(num_classes=3)\n",
        "X_iris, X_iris_test, Y_iris, Y_iris_test = train_test_split(X, Y, test_size=0.1, random_state=RAND_ST) # 90% training and 10% test"
      ],
      "metadata": {
        "id": "YTpJu6xI07y2"
      },
      "execution_count": null,
      "outputs": []
    },
    {
      "cell_type": "markdown",
      "source": [
        "MNIST dataset"
      ],
      "metadata": {
        "id": "870XnZb61CDf"
      }
    },
    {
      "cell_type": "code",
      "source": [
        "X, Y = load_mnist_dataset(num_classes=10)\n",
        "X = X / 255.0\n",
        "X_mnist, X_mnist_test, Y_mnist, Y_mnist_test = train_test_split(X, Y, test_size=0.1, random_state=RAND_ST) # 90% training and 10% test"
      ],
      "metadata": {
        "id": "RunCnG9A093-"
      },
      "execution_count": null,
      "outputs": []
    },
    {
      "cell_type": "code",
      "source": [
        "def nsolve(X,y): #Normal Equation\n",
        "    w = np.matmul(np.linalg.inv(np.matmul(X.transpose(),X)), X.transpose()).dot(y)\n",
        "    return w"
      ],
      "metadata": {
        "id": "7JVT4Ivr0_UA"
      },
      "execution_count": null,
      "outputs": []
    },
    {
      "cell_type": "code",
      "source": [
        "def line_fit(X,y): #line fitting using normal equation\n",
        "\n",
        "    X0 = np.ones((X.shape[0],1)) \n",
        "    X = np.hstack((X0, X)) #this accounts for the bias term\n",
        "    w = nsolve(X,y)\n",
        "    y_pred = X.dot(w.transpose())\n",
        "    l2_error = (y - y_pred)**2\n",
        "    l2_error = np.sqrt(l2_error.sum())\n",
        "\n",
        "\n",
        "    return w, l2_error"
      ],
      "metadata": {
        "id": "28a_uy6B1J0M"
      },
      "execution_count": null,
      "outputs": []
    },
    {
      "cell_type": "markdown",
      "source": [
        "Testing on training and test data from IRIS:"
      ],
      "metadata": {
        "id": "eXzTemAa1boy"
      }
    },
    {
      "cell_type": "code",
      "source": [
        "w, error = line_fit(X_iris[:, [0,1,3]], X_iris[:, 2])\n",
        "print(error) #from train set\n",
        "X_test = X_iris_test[:, [0,1,3]]\n",
        "X0 = np.ones((X_test.shape[0],1))\n",
        "X_test = np.hstack((X0, X_test))\n",
        "y_test = X_iris_test[:, 2]\n",
        "y_pred = X_test.dot(w.transpose()) #prediction using trained w\n",
        "l2_error_test = (y_test-y_pred)**2\n",
        "l2_error_test = np.sqrt(l2_error_test.sum())\n",
        "print(l2_error_test)\n"
      ],
      "metadata": {
        "colab": {
          "base_uri": "https://localhost:8080/"
        },
        "id": "Wpu5L__a1Quj",
        "outputId": "dedbb2ab-468f-4d95-9e4f-ab1d6aa52954"
      },
      "execution_count": null,
      "outputs": [
        {
          "output_type": "stream",
          "name": "stdout",
          "text": [
            "3.534583205431446\n",
            "1.5611901785495337\n"
          ]
        }
      ]
    },
    {
      "cell_type": "code",
      "source": [
        "plot_correlation(y_pred, X_iris_test[:, 2])"
      ],
      "metadata": {
        "colab": {
          "base_uri": "https://localhost:8080/",
          "height": 388
        },
        "id": "4p_gt-Aj1vht",
        "outputId": "ee18fb0c-24e0-425e-bee8-643eb94a77ce"
      },
      "execution_count": null,
      "outputs": [
        {
          "output_type": "display_data",
          "data": {
            "text/plain": [
              "<Figure size 576x432 with 1 Axes>"
            ],
            "image/png": "[encoded data removed]"
          },
          "metadata": {
            "needs_background": "light"
          }
        }
      ]
    },
    {
      "cell_type": "code",
      "source": [
        "def poly_fit(X,y): #fitting a polynomial equation that takes all possible pairwise combination of features\n",
        "\n",
        "    X0 = np.ones((X.shape[0],1))\n",
        "    num_features = X.shape[1]\n",
        "    for i in range(num_features): #i and j are features\n",
        "      for j in range(num_features):\n",
        "        temp = np.multiply(X[:,i],X[:,j])\n",
        "        temp = temp.reshape(-1,1)\n",
        "        X = np.hstack((X, temp))\n",
        "    X = np.unique(X, axis=1) #remove duplicate terms\n",
        "    X = np.hstack((X0, X))\n",
        "    w = nsolve(X,y)\n",
        "    y_pred = X.dot(w.transpose())\n",
        "    l2_error = (y - y_pred)**2\n",
        "    l2_error = np.sqrt(l2_error.sum())\n",
        "\n",
        "    return w, l2_error"
      ],
      "metadata": {
        "id": "zAvQVT55138J"
      },
      "execution_count": null,
      "outputs": []
    },
    {
      "cell_type": "markdown",
      "source": [
        "Testing on IRIS"
      ],
      "metadata": {
        "id": "sCqPGOcK2FGw"
      }
    },
    {
      "cell_type": "code",
      "source": [
        "w, train_error = poly_fit(X_iris[:, [0,1,2]], X_iris[:,3])\n",
        "X0 = np.ones((X_iris_test.shape[0],1))\n",
        "num_features = 3\n",
        "X = X_iris_test[:, [0,1,2]]\n",
        "for i in range(num_features):\n",
        "  for j in range(num_features):\n",
        "    temp = np.multiply(X_iris_test[:,i],X_iris_test[:,j])\n",
        "    temp = temp.reshape(-1,1)\n",
        "    X = np.hstack((X, temp))\n",
        "X = np.unique(X, axis=1)\n",
        "X = np.hstack((X0, X))\n",
        "preds = X.dot(w.transpose())\n",
        "l2_error = (X_iris_test[:,3] - preds)**2\n",
        "l2_error = np.sqrt(l2_error.sum())\n",
        "print(l2_error)"
      ],
      "metadata": {
        "colab": {
          "base_uri": "https://localhost:8080/"
        },
        "id": "R7eydwkT2C8x",
        "outputId": "e3caf61c-2479-4424-b873-9762d46ce63a"
      },
      "execution_count": null,
      "outputs": [
        {
          "output_type": "stream",
          "name": "stdout",
          "text": [
            "0.8621833315666116\n"
          ]
        }
      ]
    },
    {
      "cell_type": "code",
      "source": [
        "plot_correlation(preds, X_iris_test[:, 3])"
      ],
      "metadata": {
        "colab": {
          "base_uri": "https://localhost:8080/",
          "height": 388
        },
        "id": "BG1oOgzO2PtW",
        "outputId": "1f791696-d320-4a3b-ad9b-e718f7a2b99d"
      },
      "execution_count": null,
      "outputs": [
        {
          "output_type": "display_data",
          "data": {
            "text/plain": [
              "<Figure size 576x432 with 1 Axes>"
            ],
            "image/png": "[encoded data removed]"
          },
          "metadata": {
            "needs_background": "light"
          }
        }
      ]
    },
    {
      "cell_type": "markdown",
      "source": [
        "## Optimization Methods"
      ],
      "metadata": {
        "id": "5yFgvxU423M-"
      }
    },
    {
      "cell_type": "markdown",
      "source": [
        "Gradient Descent (standard):"
      ],
      "metadata": {
        "id": "EsH1oZQe2hrf"
      }
    },
    {
      "cell_type": "code",
      "source": [
        "def gradient_descent(parameters, objective, d_objective, step_size, max_iterations, eps_change=1.0e-6):\n",
        "    minimizer  = parameters.copy()\n",
        "    current_it = 0\n",
        "    \n",
        "    for i in range(max_iterations):\n",
        "      prev_minimizer = minimizer\n",
        "      minimizer = minimizer - (step_size * d_objective(minimizer)) #descent so subtract to go down\n",
        "      error = ((prev_minimizer-minimizer)**2).mean() #calculate minimum change by mse\n",
        "      if error < eps_change:\n",
        "        break\n",
        "    current_it = i    \n",
        "\n",
        "        \n",
        "    return minimizer, current_it + 1"
      ],
      "metadata": {
        "id": "cYfU-mPW2Rd-"
      },
      "execution_count": null,
      "outputs": []
    },
    {
      "cell_type": "markdown",
      "source": [
        "Gradient Descent (Nesterov Momentum):"
      ],
      "metadata": {
        "id": "xtgkCw7k2mmv"
      }
    },
    {
      "cell_type": "code",
      "source": [
        "def gradient_descent_nesterov(parameters, objective, d_objective, momentum, step_size, max_iterations, eps_change):\n",
        "    #nesterov momentum is useful for preventing zig-zag oscillations close to solution\n",
        "    minimizer  = parameters.copy()\n",
        "    current_it = 0\n",
        "\n",
        "    vt1 = 0\n",
        "    for i in range(max_iterations):\n",
        "      prev_minimizer = minimizer\n",
        "      vt0 = vt1\n",
        "      vt1 = (momentum*vt0) - (step_size*(d_objective(prev_minimizer + (momentum*vt0))))\n",
        "      minimizer = prev_minimizer + vt1\n",
        "      error = ((prev_minimizer-minimizer)**2).mean()\n",
        "      if error < eps_change:\n",
        "        break\n",
        "\n",
        "    current_it = i\n",
        "\n",
        "        \n",
        "    return minimizer, current_it + 1"
      ],
      "metadata": {
        "id": "IRSKg3Jc2ZXD"
      },
      "execution_count": null,
      "outputs": []
    },
    {
      "cell_type": "markdown",
      "source": [
        "Second-order optimization:"
      ],
      "metadata": {
        "id": "7s0-WkPS2sjc"
      }
    },
    {
      "cell_type": "code",
      "source": [
        "def second_order(parameters, objective, d_objective, dd_objective, step_size, max_iterations, eps_change):\n",
        "\n",
        "    minimizer  = parameters.copy()\n",
        "    current_it = 0\n",
        "\n",
        "    for i in range(max_iterations):\n",
        "      prev_minimizer = minimizer\n",
        "      minimizer = prev_minimizer - np.linalg.inv(dd_objective(prev_minimizer)).dot(d_objective(prev_minimizer))\n",
        "      error = ((prev_minimizer-minimizer)**2).mean()\n",
        "      if error < eps_change:\n",
        "        break\n",
        "    current_it = i\n",
        "\n",
        "\n",
        "        \n",
        "    return minimizer, current_it + 1"
      ],
      "metadata": {
        "id": "q82mxOwB2gz_"
      },
      "execution_count": null,
      "outputs": []
    },
    {
      "cell_type": "markdown",
      "source": [
        "## Clustering Methods"
      ],
      "metadata": {
        "id": "pZp-m-IN3EAL"
      }
    },
    {
      "cell_type": "markdown",
      "source": [
        "PCA: Dimensionality reduction with the aim of retaining as much variance as possible\n",
        "\n",
        "> Why?\n",
        "\n",
        "\n",
        "*   Reduces training time\n",
        "*   Reduces noise\n",
        "\n",
        "PCA finds a new set of dimensions such that all the dimensions are orthogonal (and hence linearly independent) and ranked according to variance.\n",
        "The new dimensions should minimize projection error while having max spread.\n",
        "\n"
      ],
      "metadata": {
        "id": "UWZnXBjt3NLS"
      }
    },
    {
      "cell_type": "code",
      "source": [
        "def pca(X, ndims):\n",
        "    mean_vec = X.mean(axis = 0, keepdims=True)\n",
        "    X = X - mean_vec #normalisation\n",
        "    cov = np.cov(X.T) #matrix representing covariance between each feature\n",
        "    eig_vals, eig_vecs = np.linalg.eig(cov) #eigenvectors point in the direction of max variance and eigenvalues indicate importance\n",
        "    #eigenvectors are orthogonal because they span the vector space\n",
        "    eig_vecs = eig_vecs.T #transpose for sorting\n",
        "    idxs = np.argsort(eig_vals)[::-1] #returns indices to sort array\n",
        "    eig_vals = eig_vals[idxs]\n",
        "    eig_vecs = eig_vecs[idxs]\n",
        "    top_eig_vecs = eig_vecs[:ndims]\n",
        "\n",
        "\n",
        "    return mean_vec, top_eig_vecs"
      ],
      "metadata": {
        "id": "emSBFkE421-A"
      },
      "execution_count": null,
      "outputs": []
    },
    {
      "cell_type": "markdown",
      "source": [
        "Testing:"
      ],
      "metadata": {
        "id": "hv7U9SBD3Qbt"
      }
    },
    {
      "cell_type": "code",
      "source": [
        "mean, top_comp = pca(X_mnist, 10) #Top 10 components\n",
        "\n",
        "plot_eigenvecs(top_comp, 5,2)"
      ],
      "metadata": {
        "colab": {
          "base_uri": "https://localhost:8080/",
          "height": 248
        },
        "id": "grHy_S1G3MMv",
        "outputId": "4858c643-c360-4ffa-dd6b-6526b58a9abc"
      },
      "execution_count": null,
      "outputs": [
        {
          "output_type": "display_data",
          "data": {
            "text/plain": [
              "<Figure size 432x288 with 10 Axes>"
            ],
            "image/png": "[encoded data removed]"
          },
          "metadata": {
            "needs_background": "light"
          }
        }
      ]
    },
    {
      "cell_type": "code",
      "source": [
        "def pca_projection(X, mean_vec, eig_vecs):\n",
        "\n",
        "    X_scaled = X - mean_vec\n",
        "    weights = X_scaled.dot(eig_vecs)#re-orientation of data to new axis\n",
        "\n",
        "    return weights"
      ],
      "metadata": {
        "id": "zmPayEGs3R9-"
      },
      "execution_count": null,
      "outputs": []
    },
    {
      "cell_type": "code",
      "source": [
        "def pca_reconstruction(weights, mean_vec, eig_vecs):\n",
        " \n",
        "    reconstruction = weights.dot(eig_vecs.T) + mean_vec \n",
        "\n",
        "\n",
        "    return reconstruction"
      ],
      "metadata": {
        "id": "2pd05Sra3aBD"
      },
      "execution_count": null,
      "outputs": []
    },
    {
      "cell_type": "markdown",
      "source": [
        "Reconstruction from PCA with all components:"
      ],
      "metadata": {
        "id": "Bm9VAK2w3wS9"
      }
    },
    {
      "cell_type": "code",
      "source": [
        "mean, top_comp = pca(X_mnist, X_mnist.shape[1]) \n",
        "\n",
        "first_image = X_mnist_test[0].reshape(1,784)\n",
        "weights = pca_projection(first_image, mean, top_comp)\n",
        "reconstruction = pca_reconstruction(weights, mean, top_comp)\n",
        "stacked_images = np.vstack((first_image, reconstruction))\n",
        "plot_eigenvecs(stacked_images, 1, 2)"
      ],
      "metadata": {
        "colab": {
          "base_uri": "https://localhost:8080/",
          "height": 183
        },
        "id": "K8kH8VU43edi",
        "outputId": "265a4271-bfd4-4254-e5ed-5fe13a6340ce"
      },
      "execution_count": null,
      "outputs": [
        {
          "output_type": "display_data",
          "data": {
            "text/plain": [
              "<Figure size 432x288 with 2 Axes>"
            ],
            "image/png": "[encoded data removed]"
          },
          "metadata": {
            "needs_background": "light"
          }
        }
      ]
    },
    {
      "cell_type": "markdown",
      "source": [
        "K-means Clustering\n",
        "\n",
        "> Useful for identifying patterns within data\n",
        "\n"
      ],
      "metadata": {
        "id": "ml8_uG8d36SV"
      }
    },
    {
      "cell_type": "code",
      "source": [
        "def kmeans(X, k, max_iterations=1000):\n",
        "\n",
        "    clusters = [[] for i in range(k)]\n",
        "    rand_idxs = np.random.choice(X.shape[0], k, replace=False)\n",
        "    centroids = [X[i] for i in rand_idxs]\n",
        "    for i in range(max_iterations):\n",
        "      for idx, val in enumerate(X):\n",
        "        distances = [np.sqrt(np.sum((val-c)**2)) for c in centroids]\n",
        "        closest_idx = np.argmin(distances)\n",
        "        clusters[closest_idx].append(idx)#map value to the centroid it is closest to\n",
        "\n",
        "      old_centroids = centroids\n",
        "      for cluster_idx, cluster in enumerate(clusters):\n",
        "        cluster_mean = np.mean(X[cluster], axis=0) #get new centroid\n",
        "        centroids[cluster_idx] = cluster_mean\n",
        "      cent_dist = [np.sqrt(np.sum((old_centroids[i]-centroids[i])**2)) for i in range(len(centroids))]\n",
        "      if sum(cent_dist) < 0.01: #used to speed up algorithm\n",
        "        break\n",
        "\n",
        "\n",
        "    return centroids"
      ],
      "metadata": {
        "id": "IRaSwGYd3z7K"
      },
      "execution_count": null,
      "outputs": []
    },
    {
      "cell_type": "code",
      "source": [
        "ideal_centroids = kmeans(X_mnist, 10)\n",
        "he = np.reshape(ideal_centroids, (10,784))\n",
        "\n",
        "plot_eigenvecs(he, 5, 2)"
      ],
      "metadata": {
        "colab": {
          "base_uri": "https://localhost:8080/",
          "height": 248
        },
        "id": "2b9IiTuX4CFE",
        "outputId": "19267335-dd64-4cb2-8ae7-6025b8430f48"
      },
      "execution_count": null,
      "outputs": [
        {
          "output_type": "display_data",
          "data": {
            "text/plain": [
              "<Figure size 432x288 with 10 Axes>"
            ],
            "image/png": "[encoded data removed]"
          },
          "metadata": {
            "needs_background": "light"
          }
        }
      ]
    },
    {
      "cell_type": "markdown",
      "source": [
        "## Linear Classification"
      ],
      "metadata": {
        "id": "SJoF8XMZ4TEF"
      }
    },
    {
      "cell_type": "markdown",
      "source": [
        "Binary classification"
      ],
      "metadata": {
        "id": "wZ1L_olz4b36"
      }
    },
    {
      "cell_type": "code",
      "source": [
        "def lclass(examplesA, examplesB, testExample):\n",
        "\n",
        "    X = np.vstack((examplesA, examplesB))\n",
        "    y1 = np.zeros(examplesA.shape[0])#examplesA have class 0\n",
        "    y2 = np.ones(examplesB.shape[0])#examplesB have class 1\n",
        "    y = np.hstack((y1,y2))\n",
        "    w, error = line_fit(X,y)#fit the line\n",
        "    X0 = np.ones((testExample.shape[0],1))\n",
        "    testExample = np.hstack((X0, testExample))\n",
        "    y_pred = testExample.dot(w.transpose())\n",
        "    for i in range(y_pred.shape[0]):\n",
        "      if y_pred[i] > 0.5:\n",
        "        y_pred[i] = 1 #its B\n",
        "      else:\n",
        "        y_pred[i] = 0 #its A\n",
        "    \n",
        "    preds = y_pred\n",
        "\n",
        "\n",
        "    return preds"
      ],
      "metadata": {
        "id": "D6kvQWMm4Gtk"
      },
      "execution_count": null,
      "outputs": []
    },
    {
      "cell_type": "markdown",
      "source": [
        "Testing:"
      ],
      "metadata": {
        "id": "FAV-BY-j4k_0"
      }
    },
    {
      "cell_type": "code",
      "source": [
        "results = []\n",
        "\n",
        "matA = np.empty(shape=[1,4])\n",
        "matB = np.empty(shape=[1,4])\n",
        "for i in range(X_iris.shape[0]):\n",
        "  if (Y_iris[i] == 0):\n",
        "    matA = np.vstack((matA, X_iris[i]))#matA has Iris Setosa samples \n",
        "  else:\n",
        "    matB = np.vstack((matB, X_iris[i]))#matB has all others\n",
        "preds = lclass(matA, matB, X_iris_test)\n",
        "reals = np.zeros((Y_iris_test.shape[0]))\n",
        "for i in range (Y_iris_test.shape[0]):\n",
        "  if Y_iris_test[i] == 0:\n",
        "    reals[i] = 0\n",
        "  else:\n",
        "    reals[i] = 1\n",
        "results.append((preds,reals))\n",
        "\n",
        "matA = np.empty(shape=[1,4])\n",
        "matB = np.empty(shape=[1,4])\n",
        "for i in range(X_iris.shape[0]):\n",
        "  if (Y_iris[i] == 1):\n",
        "    matA = np.vstack((matA, X_iris[i]))#matA has Iris Versicolour samples \n",
        "  else:\n",
        "    matB = np.vstack((matB, X_iris[i]))#matB has all others\n",
        "preds = lclass(matA, matB, X_iris_test)\n",
        "reals = np.zeros((Y_iris_test.shape[0]))\n",
        "for i in range (Y_iris_test.shape[0]):\n",
        "  if Y_iris_test[i] == 1:\n",
        "    reals[i] = 0\n",
        "  else:\n",
        "    reals[i] = 1\n",
        "results.append((preds, reals))\n",
        "\n",
        "matA = np.empty(shape=[1,4])\n",
        "matB = np.empty(shape=[1,4])\n",
        "for i in range(X_iris.shape[0]):\n",
        "  if (Y_iris[i] == 2):\n",
        "    matA = np.vstack((matA, X_iris[i]))#matA has Iris Virginica samples \n",
        "  else:\n",
        "    matB = np.vstack((matB, X_iris[i]))#matB has all others\n",
        "preds = lclass(matA, matB, X_iris_test)\n",
        "reals = np.zeros((Y_iris_test.shape[0]))\n",
        "for i in range (Y_iris_test.shape[0]):\n",
        "  if Y_iris_test[i] == 2:\n",
        "    reals[i] = 0\n",
        "  else:\n",
        "    reals[i] = 1\n",
        "results.append((preds, reals))"
      ],
      "metadata": {
        "id": "oYmxc9qg4gyS"
      },
      "execution_count": null,
      "outputs": []
    },
    {
      "cell_type": "code",
      "source": [
        "for tup in results:\n",
        "  plot_confusion_matrix(tup[0], tup[1])"
      ],
      "metadata": {
        "colab": {
          "base_uri": "https://localhost:8080/",
          "height": 803
        },
        "id": "NAakLr994mDn",
        "outputId": "2bb8ba26-c4e4-4986-a1bc-ec4ed0ef1384"
      },
      "execution_count": null,
      "outputs": [
        {
          "output_type": "display_data",
          "data": {
            "text/plain": [
              "<Figure size 432x288 with 1 Axes>"
            ],
            "image/png": "[encoded data removed]"
          },
          "metadata": {
            "needs_background": "light"
          }
        },
        {
          "output_type": "display_data",
          "data": {
            "text/plain": [
              "<Figure size 432x288 with 1 Axes>"
            ],
            "image/png": "[encoded data removed]"
          },
          "metadata": {
            "needs_background": "light"
          }
        },
        {
          "output_type": "display_data",
          "data": {
            "text/plain": [
              "<Figure size 432x288 with 1 Axes>"
            ],
            "image/png": "[encoded data removed]"
          },
          "metadata": {
            "needs_background": "light"
          }
        }
      ]
    },
    {
      "cell_type": "markdown",
      "source": [
        "Multiclass Classification:"
      ],
      "metadata": {
        "id": "O-SDkkBI4rEz"
      }
    },
    {
      "cell_type": "code",
      "source": [
        "def softmax(preds):\n",
        "\n",
        "  #predictions are passed such that the each column represents a different class\n",
        "  e = np.exp(preds)\n",
        "  activation = e.T/e.sum(axis=1)\n",
        "\n",
        "\n",
        "\n",
        "  return activation"
      ],
      "metadata": {
        "id": "jlrBLydX4n7y"
      },
      "execution_count": null,
      "outputs": []
    },
    {
      "cell_type": "code",
      "source": [
        "def lclass_prob(examplesA, examplesB, testExample):\n",
        "\n",
        "    X = np.vstack((examplesA, examplesB))\n",
        "    y1 = np.ones(examplesA.shape[0])\n",
        "    y2 = np.zeros(examplesB.shape[0])\n",
        "    y = np.hstack((y1,y2))\n",
        "    w, error = line_fit(X,y)#fit the line\n",
        "    X0 = np.ones((testExample.shape[0],1))\n",
        "    testExample = np.hstack((X0, testExample))\n",
        "    preds = testExample.dot(w.transpose())\n",
        "\n",
        "    \n",
        "    return preds"
      ],
      "metadata": {
        "id": "I_h9soS_4xHB"
      },
      "execution_count": null,
      "outputs": []
    },
    {
      "cell_type": "code",
      "source": [
        "def lmclass(examples, labels, testExample):\n",
        "\n",
        "    preds = []\n",
        "    for label in np.unique(labels): #np.unique returns a sorted list of unique elements, so we start with 0,1,2...\n",
        "      examplesA = examples[labels == label]\n",
        "      examplesB = examples[labels != label]\n",
        "      next_pred = lclass_prob(examplesA, examplesB, testExample)\n",
        "      preds.append(next_pred)\n",
        "\n",
        "    pred_matrix = (np.reshape(preds, (np.unique(labels).shape[0], testExample.shape[0]))).T\n",
        "    \n",
        "    preds_prob = softmax(pred_matrix).T\n",
        "    \n",
        "    return preds_prob"
      ],
      "metadata": {
        "id": "0X4t9_c140oE"
      },
      "execution_count": null,
      "outputs": []
    },
    {
      "cell_type": "code",
      "source": [
        "preds_prob = lmclass(X_iris, Y_iris, X_iris_test)\n",
        "accuracy = 0\n",
        "\n",
        "for i in range(X_iris_test.shape[0]):\n",
        "  print(f'predicted:{np.argmax(preds_prob[i])}', f'actual:{Y_iris_test[i]}')#In this case the column number of preds_prob will be compared with the values in Y_iris_test - this testing may not work for other datasets\n",
        "  if np.argmax(preds_prob[i])==Y_iris_test[i]:\n",
        "    accuracy = accuracy + 1\n",
        "print(f'accuracy = {accuracy/X_iris_test.shape[0]}')\n"
      ],
      "metadata": {
        "colab": {
          "base_uri": "https://localhost:8080/"
        },
        "id": "QQZbcUtc45W6",
        "outputId": "025d4fc8-9be9-4501-87e5-2a7640969502"
      },
      "execution_count": null,
      "outputs": [
        {
          "output_type": "stream",
          "name": "stdout",
          "text": [
            "predicted:1 actual:1\n",
            "predicted:0 actual:0\n",
            "predicted:2 actual:2\n",
            "predicted:2 actual:1\n",
            "predicted:1 actual:1\n",
            "predicted:0 actual:0\n",
            "predicted:2 actual:1\n",
            "predicted:2 actual:2\n",
            "predicted:1 actual:1\n",
            "predicted:1 actual:1\n",
            "predicted:2 actual:2\n",
            "predicted:0 actual:0\n",
            "predicted:0 actual:0\n",
            "predicted:0 actual:0\n",
            "predicted:0 actual:0\n",
            "accuracy = 0.8666666666666667\n"
          ]
        }
      ]
    },
    {
      "cell_type": "markdown",
      "source": [
        "## Non-linear Classification"
      ],
      "metadata": {
        "id": "HRxWJIoc5HXY"
      }
    },
    {
      "cell_type": "code",
      "source": [
        "def gd(X, Y, W,loss_function, loss_gradient, step_size, max_it):\n",
        "\n",
        "    history = [] \n",
        "    for i in range(max_it):\n",
        "      preds = predict(X,W)\n",
        "      history.append(loss_function(preds,Y))\n",
        "      prev_W = W\n",
        "      W = W - (step_size*loss_gradient(preds,X,Y,W))\n",
        "\n",
        "    best_w = W\n",
        "\n",
        "    \n",
        "    return history, best_w"
      ],
      "metadata": {
        "id": "Q0UoRn3A49T1"
      },
      "execution_count": null,
      "outputs": []
    },
    {
      "cell_type": "code",
      "source": [
        "def sigmoid(z):\n",
        "\n",
        "    activation = 1.0/(1.0+np.exp(-z))\n",
        "\n",
        "    return activation\n",
        "\n",
        "def predict(X, W):\n",
        "\n",
        "    X0 = np.ones((X.shape[0],1))\n",
        "    X = np.hstack((X0,X))\n",
        "    preds = X.dot(W.transpose())\n",
        "    prediction = sigmoid(preds)\n",
        "\n",
        "\n",
        "    \n",
        "    return prediction"
      ],
      "metadata": {
        "id": "SJnyBtZN5l5y"
      },
      "execution_count": null,
      "outputs": []
    },
    {
      "cell_type": "code",
      "source": [
        "def logistic_loss(preds, targets):\n",
        "\n",
        "    cost = (-targets * np.log(preds) - (1 - targets) * np.log(1 - preds)).mean()\n",
        "\n",
        "\n",
        "\n",
        "    return cost"
      ],
      "metadata": {
        "id": "C3bHsf3Y5sNb"
      },
      "execution_count": null,
      "outputs": []
    },
    {
      "cell_type": "code",
      "source": [
        "def dlogistic(preds, X, Y,W=[]):\n",
        "\n",
        "    X0 = np.ones((X.shape[0],1))\n",
        "    X = np.hstack((X0,X))\n",
        "    J = (1/preds.shape[0]) * np.dot(X.T, (preds-Y))\n",
        "\n",
        "    return J"
      ],
      "metadata": {
        "id": "ZpggPRwh5wOB"
      },
      "execution_count": null,
      "outputs": []
    },
    {
      "cell_type": "code",
      "source": [
        "#Classes names are: Iris Setosa for label 0, Iris Versicolour for label 1, and Iris Virginica for label 2.\n",
        "y = np.zeros((Y_iris.shape[0]))\n",
        "for i in range (Y_iris.shape[0]):\n",
        "  if Y_iris[i] == 0: #Test for Setosa\n",
        "    y[i] = 1 \n",
        "  else:\n",
        "    y[i] = 0\n",
        "y_test = np.zeros((Y_iris_test.shape[0]))\n",
        "for i in range (Y_iris_test.shape[0]):\n",
        "  if Y_iris_test[i] == 0:\n",
        "    y_test[i] = 1\n",
        "  else:\n",
        "    y_test[i] = 0\n",
        "\n",
        "history, best_w = gd(X_iris, y, np.zeros(X_iris.shape[1]+1), logistic_loss, dlogistic, 0.1, 500)\n",
        "\n",
        "preds = predict(X_iris_test, best_w)\n",
        "for i in range(preds.shape[0]):\n",
        "  if preds[i] > 0.5:\n",
        "    preds[i] = 1\n",
        "  else:\n",
        "    preds[i] = 0\n",
        "\n",
        "print('predictions:', preds)\n",
        "print('real values:', y_test)\n"
      ],
      "metadata": {
        "colab": {
          "base_uri": "https://localhost:8080/"
        },
        "id": "-dMI0ReZ5z3O",
        "outputId": "1fbb4603-c64a-4dd3-809f-c90bb35caeec"
      },
      "execution_count": null,
      "outputs": [
        {
          "output_type": "stream",
          "name": "stdout",
          "text": [
            "predictions: [0. 1. 0. 0. 0. 1. 0. 0. 0. 0. 0. 1. 1. 1. 1.]\n",
            "real values: [0. 1. 0. 0. 0. 1. 0. 0. 0. 0. 0. 1. 1. 1. 1.]\n"
          ]
        }
      ]
    },
    {
      "cell_type": "code",
      "source": [
        "\n",
        "plot_loss_curve(history)"
      ],
      "metadata": {
        "colab": {
          "base_uri": "https://localhost:8080/",
          "height": 374
        },
        "id": "y44bXXer59CD",
        "outputId": "b2f0bea3-eb4f-4478-be92-965a2df2e265"
      },
      "execution_count": null,
      "outputs": [
        {
          "output_type": "display_data",
          "data": {
            "text/plain": [
              "<Figure size 576x432 with 1 Axes>"
            ],
            "image/png": "[encoded data removed]"
          },
          "metadata": {
            "needs_background": "light"
          }
        }
      ]
    },
    {
      "cell_type": "markdown",
      "source": [
        "## Neural Network (3-layer):"
      ],
      "metadata": {
        "id": "R8akRVr26Pn0"
      }
    },
    {
      "cell_type": "code",
      "source": [
        "def sigmoid(z):\n",
        "\n",
        "    activation = 1.0/(1.0+np.exp(-z))\n",
        "\n",
        "    return activation\n",
        "\n",
        "def dsigmoid(z):\n",
        "\n",
        "    gradient = sigmoid(z)*(1-sigmoid(z))\n",
        "\n",
        "\n",
        "    return gradient"
      ],
      "metadata": {
        "id": "014KH0wN6Hlj"
      },
      "execution_count": null,
      "outputs": []
    },
    {
      "cell_type": "code",
      "source": [
        "\n",
        "def forward_pass(x, W, b):\n",
        "\n",
        "    z1 = np.dot(W[0], x) +b[0]#hidden state 1\n",
        "    a1 = sigmoid(z1)\n",
        "    z2 = np.dot(W[1], a1) +b[1] #hidden state 2\n",
        "    a2 = sigmoid(z2)\n",
        "    z3 = np.dot(W[2], a2)+b[2]\n",
        "    a3 = sigmoid(z3)#final output\n",
        "    cache = ((z1,a1), (z2,a2), (z3,a3))\n",
        "    y_hat = a3\n",
        "    \n",
        "    return y_hat, cache"
      ],
      "metadata": {
        "id": "j0s0JGCC6YU4"
      },
      "execution_count": null,
      "outputs": []
    },
    {
      "cell_type": "code",
      "source": [
        "def loss(preds, targets):\n",
        "\n",
        "\n",
        "    cost = ((preds-targets)**2).mean()\n",
        "    \n",
        "    return cost\n",
        "\n",
        "def dloss(preds, target):\n",
        "\n",
        "\n",
        "    gradient = 2*(preds - target)/preds.shape[0]\n",
        "\n",
        "\n",
        "    return gradient"
      ],
      "metadata": {
        "id": "3C4MlzYf6eZ0"
      },
      "execution_count": null,
      "outputs": []
    },
    {
      "cell_type": "code",
      "source": [
        "def backward_pass(preds, targets, W, b, X, cache):\n",
        "\n",
        "\n",
        "    m = targets.shape[0]\n",
        "    a1 = cache[0][1]\n",
        "    a2 = cache[1][1]\n",
        "    a3 = cache[2][1]\n",
        "    z1 = cache[0][0]\n",
        "    z2 = cache[1][0]\n",
        "    z3 = cache[2][0]\n",
        "    dz3 = dloss(a3,targets)\n",
        "    J_w3 = (1/m)*np.dot(dz3, a2.T) #loss with respect to w3\n",
        "    J_b3 = (1/m) * np.sum(dz3, axis = 1, keepdims=True) #we have to update the bias as well\n",
        "    dz2 = np.multiply(np.dot(W[2].T, dz3), dsigmoid(a2))\n",
        "    J_w2 = (1/m)*np.dot(dz2, a1.T) #wrt to w2\n",
        "    J_b2 = (1/m)*np.sum(dz2, axis = 1, keepdims=True)\n",
        "    dz1 = np.multiply(np.dot(W[1].T, dz2), dsigmoid(a1))\n",
        "    J_w1 = (1/m)*np.dot(dz1, X.T)\n",
        "    J_b1 = (1/m)*np.sum(dz1, axis=1, keepdims=True)\n",
        "\n",
        "    \n",
        "    return J_w3, J_w2, J_w1, J_b3, J_b2, J_b1"
      ],
      "metadata": {
        "id": "DoMAzN9Z6kpo"
      },
      "execution_count": null,
      "outputs": []
    },
    {
      "cell_type": "code",
      "source": [
        "def training(X, Y, W, b, step_size, max_it):\n",
        "\n",
        "    W = list(W)\n",
        "    b = list(b)\n",
        "    bs = 100 #batch size\n",
        "    m = X.shape[0]\n",
        "    for i in range(max_it): #Stochastic Gradient Descent\n",
        "      batch = np.random.randint(X.shape[0], size = bs)\n",
        "      X_b = (X[batch,:]).T #transpose for easier calculations\n",
        "      Y_b = Y[batch]\n",
        "      y_hat, cache = forward_pass(X_b,W,b)\n",
        "      J_w3, J_w2, J_w1, J_b3, J_b2, J_b1 = backward_pass(y_hat, Y_b, W, b, X_b, cache)\n",
        "      W[0] = W[0] - step_size*J_w1 #updates\n",
        "      W[1] = W[1] - step_size*J_w2\n",
        "      W[2] = W[2] - step_size*J_w3\n",
        "      b[0] = b[0] - step_size*J_b1\n",
        "      b[1] = b[1] - step_size*J_b2\n",
        "      b[2] = b[2] - step_size*J_b3\n",
        "      history.append(loss(Y_b, y_hat))\n",
        "      if i % 100 == 0:\n",
        "        print(f'loss at iteration {i}: {history[-1]}')\n",
        "\n",
        "            \n",
        "    return W, b, history"
      ],
      "metadata": {
        "id": "5x04ogar6oOU"
      },
      "execution_count": null,
      "outputs": []
    },
    {
      "cell_type": "code",
      "source": [
        "\n",
        "\n",
        "\n",
        "np.random.seed(10)\n",
        "#Layer structure can be changed - I chose [784, 128,64,1]\n",
        "W = ((np.random.randn(128, 784)*np.sqrt(1./128)), (np.random.randn(64, 128)*np.sqrt(1./64)), (np.random.randn(1, 64))) #used randn for initialization\n",
        "b= ((np.random.randn(128, 1)), (np.random.randn(64, 1)), (np.random.randn(1,1)))\n",
        "Y_1 = np.empty(Y_mnist.shape[0]) #encoding \n",
        "for i in range(Y_mnist.shape[0]):\n",
        "  if Y_mnist[i] == 1: #classify digits on whether they are 1 or not \n",
        "    Y_1[i] = 1\n",
        "  else:\n",
        "    Y_1[i] = 0\n",
        "\n",
        "Y_1_test = np.empty(Y_mnist_test.shape[0])\n",
        "for i in range(Y_mnist_test.shape[0]):\n",
        "  if Y_mnist_test[i] == 1:\n",
        "    Y_1_test[i] = 1\n",
        "  else:\n",
        "    Y_1_test[i] = 0\n",
        "\n",
        "W, b , history = training(X_mnist, Y_1, W, b, 0.01, 1000) #lr of 0.01 and 1000 iterations\n",
        "\n",
        "y_pred, cache = forward_pass(X_mnist_test.T, W, b)\n",
        "y_pred = y_pred.reshape((7000))\n",
        "accuracy = 0\n",
        "\n",
        "for i in range(y_pred.shape[0]):\n",
        "  if y_pred[i] > 0.5:\n",
        "    y_pred[i] = 1\n",
        "  else:\n",
        "    y_pred[i] = 0\n",
        "  if y_pred[i] == Y_1_test[i]:\n",
        "    accuracy = accuracy + 1\n",
        "\n",
        "print(f'accuracy: {accuracy/y_pred.shape[0]}')\n",
        "\n",
        "\n",
        "\n",
        "\n",
        "#end_solution\n",
        "\n",
        "\n"
      ],
      "metadata": {
        "colab": {
          "base_uri": "https://localhost:8080/"
        },
        "id": "r7MdnpIs6wjz",
        "outputId": "fac3c92a-7f99-45b0-ab3d-2e1885ff38e5"
      },
      "execution_count": null,
      "outputs": [
        {
          "output_type": "stream",
          "name": "stdout",
          "text": [
            "loss at iteration 0: 0.11873509737041467\n",
            "loss at iteration 100: 0.052872575326985034\n",
            "loss at iteration 200: 0.055071710511024816\n",
            "loss at iteration 300: 0.03553325010633781\n",
            "loss at iteration 400: 0.025862018825658088\n",
            "loss at iteration 500: 0.028806951893127274\n",
            "loss at iteration 600: 0.028685097578601097\n",
            "loss at iteration 700: 0.023738045963277728\n",
            "loss at iteration 800: 0.02580494243416896\n",
            "loss at iteration 900: 0.02459075102200726\n",
            "accuracy: 0.9822857142857143\n"
          ]
        }
      ]
    },
    {
      "cell_type": "code",
      "source": [],
      "metadata": {
        "id": "nvQy5sTT66yU"
      },
      "execution_count": null,
      "outputs": []
    }
  ]
}